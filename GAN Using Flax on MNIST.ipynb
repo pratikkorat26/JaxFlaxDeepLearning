{
 "cells": [
  {
   "cell_type": "code",
   "execution_count": 151,
   "id": "412a2740-72cd-4cef-bd3a-e68affe2b892",
   "metadata": {},
   "outputs": [],
   "source": [
    "import jax\n",
    "import flax.linen as nn\n",
    "from jax import numpy as jnp\n",
    "import tensorflow as tf\n",
    "import os\n",
    "from typing import *\n",
    "import optax\n",
    "from flax.training import train_state\n",
    "import tensorflow_datasets as tfds\n",
    "import matplotlib.pyplot as plt\n",
    "from tqdm.notebook import tqdm"
   ]
  },
  {
   "cell_type": "code",
   "execution_count": 406,
   "id": "01aab412-11e5-496b-982e-1bf6eea56cb6",
   "metadata": {},
   "outputs": [],
   "source": [
    "# Data Loading\n",
    "BATCH_SIZE = 64\n",
    "BUFFER_SIZE = 20_000\n",
    "LATENT_DIM = 16\n",
    "key = jax.random.PRNGKey(10)\n",
    "GEN_LEARNING_RATE = 1e-4\n",
    "DISC_LEARNING_RATE = 1e-4"
   ]
  },
  {
   "cell_type": "code",
   "execution_count": 284,
   "id": "171873c8-2dcb-4c68-8c08-23a8b9cf9b52",
   "metadata": {},
   "outputs": [
    {
     "data": {
      "text/plain": [
       "Array([[ 0.4726117 ,  0.3460033 ],\n",
       "       [-0.75647926,  0.07138681]], dtype=float32)"
      ]
     },
     "execution_count": 284,
     "metadata": {},
     "output_type": "execute_result"
    }
   ],
   "source": [
    "key, key_generator = jax.random.split(key, 2)\n",
    "jax.random.normal(key_generator, shape = (2,2))"
   ]
  },
  {
   "cell_type": "code",
   "execution_count": 388,
   "id": "563b2fe4-591b-40ba-bb58-715725af6c56",
   "metadata": {},
   "outputs": [],
   "source": [
    "def load_data(batch_size, buffer_size):\n",
    "    train_ds = tfds.load('mnist', split='train', shuffle_files=True)\n",
    "    test_ds = tfds.load('mnist', split='test', shuffle_files = True)\n",
    "\n",
    "    def preprocess(batch):\n",
    "        image, label = batch[\"image\"], batch[\"label\"]\n",
    "        \n",
    "        image = (tf.cast(image, dtype = tf.float32) - 127.5) / 127.5\n",
    "\n",
    "        return {\"image\": image}\n",
    "\n",
    "    train_ds = train_ds.map(preprocess, num_parallel_calls=tf.data.AUTOTUNE)\n",
    "    train_ds = train_ds.shuffle(buffer_size=buffer_size)\n",
    "    train_ds = train_ds.batch(batch_size = batch_size, drop_remainder=True)\n",
    "    train_ds = train_ds.prefetch(buffer_size = tf.data.AUTOTUNE)\n",
    "    train_ds = train_ds.cache()\n",
    "    \n",
    "    test_ds = test_ds.map(preprocess, num_parallel_calls=tf.data.AUTOTUNE)\n",
    "    test_ds = test_ds.batch(batch_size = batch_size, drop_remainder=True)\n",
    "    test_ds = test_ds.prefetch(buffer_size=tf.data.AUTOTUNE)\n",
    "    test_ds = test_ds.cache()\n",
    "    \n",
    "    train_ds = tfds.as_numpy(train_ds)\n",
    "    test_ds = tfds.as_numpy(test_ds)\n",
    "    \n",
    "    return train_ds, test_ds"
   ]
  },
  {
   "cell_type": "code",
   "execution_count": 389,
   "id": "c3974ecf-21a2-48df-a448-9d7f5e7f577c",
   "metadata": {},
   "outputs": [],
   "source": [
    "train_data, test_data = load_data(batch_size = BATCH_SIZE, buffer_size = BUFFER_SIZE)"
   ]
  },
  {
   "cell_type": "code",
   "execution_count": 390,
   "id": "34f2e44c-42e8-48be-8df8-2974e546807f",
   "metadata": {},
   "outputs": [
    {
     "name": "stdout",
     "output_type": "stream",
     "text": [
      "(64, 28, 28, 1)\n"
     ]
    },
    {
     "name": "stderr",
     "output_type": "stream",
     "text": [
      "2024-07-17 18:06:48.812155: W tensorflow/core/kernels/data/cache_dataset_ops.cc:858] The calling iterator did not fully read the dataset being cached. In order to avoid unexpected truncation of the dataset, the partially cached contents of the dataset  will be discarded. This can happen if you have an input pipeline similar to `dataset.cache().take(k).repeat()`. You should use `dataset.take(k).cache().repeat()` instead.\n",
      "2024-07-17 18:06:48.812400: W tensorflow/core/kernels/data/cache_dataset_ops.cc:858] The calling iterator did not fully read the dataset being cached. In order to avoid unexpected truncation of the dataset, the partially cached contents of the dataset  will be discarded. This can happen if you have an input pipeline similar to `dataset.cache().take(k).repeat()`. You should use `dataset.take(k).cache().repeat()` instead.\n"
     ]
    }
   ],
   "source": [
    "for batch in train_data:\n",
    "    print(batch[\"image\"].shape)\n",
    "    break"
   ]
  },
  {
   "cell_type": "code",
   "execution_count": null,
   "id": "dd77fec7-8c6a-4724-9a87-ab769e972d20",
   "metadata": {},
   "outputs": [],
   "source": []
  },
  {
   "cell_type": "code",
   "execution_count": 393,
   "id": "f16bc13d-ad5f-4c2d-ae8a-b0661a07cc59",
   "metadata": {},
   "outputs": [],
   "source": [
    "class Generator(nn.Module):\n",
    "    in_channels: Any\n",
    "\n",
    "    @nn.compact\n",
    "    def __call__(self, x, train: bool):\n",
    "        x = nn.Dense(7 * 7 * self.in_channels)(x)\n",
    "        x = nn.leaky_relu(x, negative_slope=0.2)\n",
    "        x = x.reshape((-1, 7, 7, self.in_channels))\n",
    "        x = nn.ConvTranspose(features=128, kernel_size=(4, 4), strides=(2, 2), padding='SAME')(x)\n",
    "        x = nn.leaky_relu(x, negative_slope=0.2)\n",
    "        x = nn.ConvTranspose(features=128, kernel_size=(4, 4), strides=(2, 2), padding='SAME')(x)\n",
    "        x = nn.leaky_relu(x, negative_slope=0.2)\n",
    "        x = nn.Conv(features=1, kernel_size=(7, 7), padding='SAME')(x)\n",
    "        x = nn.tanh(x)\n",
    "        \n",
    "        return x\n",
    "\n",
    "class Discriminator(nn.Module):\n",
    "    @nn.compact\n",
    "    def __call__(self, x, train: bool):\n",
    "        x = nn.Conv(features=64, kernel_size=(3, 3), strides=(2, 2), padding='SAME')(x)\n",
    "        x = nn.leaky_relu(x, negative_slope=0.2)\n",
    "        x = nn.Conv(features=128, kernel_size=(3, 3), strides=(2, 2), padding='SAME')(x)\n",
    "        x = nn.leaky_relu(x, negative_slope=0.2)\n",
    "        x = jnp.max(x, axis=(1, 2))\n",
    "        x = nn.Dense(features=1)(x)\n",
    "        return x"
   ]
  },
  {
   "cell_type": "code",
   "execution_count": 394,
   "id": "6c05c91a-9b1b-4592-9d48-a0cb5a615ea9",
   "metadata": {},
   "outputs": [
    {
     "name": "stdout",
     "output_type": "stream",
     "text": [
      "(64, 28, 28, 1)\n",
      "(64, 1)\n"
     ]
    }
   ],
   "source": [
    "generator = Generator(in_channels = 16)\n",
    "gen_x = jnp.ones(shape = (BATCH_SIZE, LATENT_DIM))\n",
    "gen_params = generator.init(jax.random.key(10), x = gen_x, train = False)\n",
    "\n",
    "gen_out = generator.apply(gen_params, x = gen_x, train = False)\n",
    "print(gen_out.shape)\n",
    "\n",
    "discriminator = Discriminator()\n",
    "disc_x = jnp.ones(shape = (BATCH_SIZE, 28, 28, 1))\n",
    "disc_params = discriminator.init(jax.random.key(11), x = disc_x, train = False)\n",
    "\n",
    "disc_out = discriminator.apply(disc_params, x = disc_x, train = False)\n",
    "print(disc_out.shape)"
   ]
  },
  {
   "cell_type": "code",
   "execution_count": 395,
   "id": "4e5b4370-924c-4b0e-b70b-2bc771a5c2cb",
   "metadata": {},
   "outputs": [
    {
     "name": "stdout",
     "output_type": "stream",
     "text": [
      "\n",
      "\u001b[3m                               Generator Summary                                \u001b[0m\n",
      "┏━━━━━━━━━━━━━━━┳━━━━━━━━━━━━━━━┳━━━━━━━━━━━━━━━┳━━━━━━━━━━━━━━━┳━━━━━━━━━━━━━━┓\n",
      "┃\u001b[1m \u001b[0m\u001b[1mpath         \u001b[0m\u001b[1m \u001b[0m┃\u001b[1m \u001b[0m\u001b[1mmodule       \u001b[0m\u001b[1m \u001b[0m┃\u001b[1m \u001b[0m\u001b[1minputs       \u001b[0m\u001b[1m \u001b[0m┃\u001b[1m \u001b[0m\u001b[1moutputs      \u001b[0m\u001b[1m \u001b[0m┃\u001b[1m \u001b[0m\u001b[1mparams      \u001b[0m\u001b[1m \u001b[0m┃\n",
      "┡━━━━━━━━━━━━━━━╇━━━━━━━━━━━━━━━╇━━━━━━━━━━━━━━━╇━━━━━━━━━━━━━━━╇━━━━━━━━━━━━━━┩\n",
      "│               │ Generator     │ train: False  │ \u001b[2mfloat32\u001b[0m[64,2… │              │\n",
      "│               │               │ x:            │               │              │\n",
      "│               │               │ \u001b[2mfloat32\u001b[0m[64,1… │               │              │\n",
      "├───────────────┼───────────────┼───────────────┼───────────────┼──────────────┤\n",
      "│ Dense_0       │ Dense         │ \u001b[2mfloat32\u001b[0m[64,1… │ \u001b[2mfloat32\u001b[0m[64,7… │ bias:        │\n",
      "│               │               │               │               │ \u001b[2mfloat32\u001b[0m[784] │\n",
      "│               │               │               │               │ kernel:      │\n",
      "│               │               │               │               │ \u001b[2mfloat32\u001b[0m[16,… │\n",
      "│               │               │               │               │              │\n",
      "│               │               │               │               │ \u001b[1m13,328 \u001b[0m\u001b[1;2m(53.3\u001b[0m │\n",
      "│               │               │               │               │ \u001b[1;2mKB)\u001b[0m          │\n",
      "├───────────────┼───────────────┼───────────────┼───────────────┼──────────────┤\n",
      "│ ConvTranspos… │ ConvTranspose │ \u001b[2mfloat32\u001b[0m[64,7… │ \u001b[2mfloat32\u001b[0m[64,1… │ bias:        │\n",
      "│               │               │               │               │ \u001b[2mfloat32\u001b[0m[128] │\n",
      "│               │               │               │               │ kernel:      │\n",
      "│               │               │               │               │ \u001b[2mfloat32\u001b[0m[4,4… │\n",
      "│               │               │               │               │              │\n",
      "│               │               │               │               │ \u001b[1m32,896 \u001b[0m      │\n",
      "│               │               │               │               │ \u001b[1;2m(131.6 KB)\u001b[0m   │\n",
      "├───────────────┼───────────────┼───────────────┼───────────────┼──────────────┤\n",
      "│ ConvTranspos… │ ConvTranspose │ \u001b[2mfloat32\u001b[0m[64,1… │ \u001b[2mfloat32\u001b[0m[64,2… │ bias:        │\n",
      "│               │               │               │               │ \u001b[2mfloat32\u001b[0m[128] │\n",
      "│               │               │               │               │ kernel:      │\n",
      "│               │               │               │               │ \u001b[2mfloat32\u001b[0m[4,4… │\n",
      "│               │               │               │               │              │\n",
      "│               │               │               │               │ \u001b[1m262,272 \u001b[0m\u001b[1;2m(1.0\u001b[0m │\n",
      "│               │               │               │               │ \u001b[1;2mMB)\u001b[0m          │\n",
      "├───────────────┼───────────────┼───────────────┼───────────────┼──────────────┤\n",
      "│ Conv_0        │ Conv          │ \u001b[2mfloat32\u001b[0m[64,2… │ \u001b[2mfloat32\u001b[0m[64,2… │ bias:        │\n",
      "│               │               │               │               │ \u001b[2mfloat32\u001b[0m[1]   │\n",
      "│               │               │               │               │ kernel:      │\n",
      "│               │               │               │               │ \u001b[2mfloat32\u001b[0m[7,7… │\n",
      "│               │               │               │               │              │\n",
      "│               │               │               │               │ \u001b[1m6,273 \u001b[0m\u001b[1;2m(25.1 \u001b[0m │\n",
      "│               │               │               │               │ \u001b[1;2mKB)\u001b[0m          │\n",
      "├───────────────┼───────────────┼───────────────┼───────────────┼──────────────┤\n",
      "│\u001b[1m \u001b[0m\u001b[1m             \u001b[0m\u001b[1m \u001b[0m│\u001b[1m \u001b[0m\u001b[1m             \u001b[0m\u001b[1m \u001b[0m│\u001b[1m \u001b[0m\u001b[1m             \u001b[0m\u001b[1m \u001b[0m│\u001b[1m \u001b[0m\u001b[1m        Total\u001b[0m\u001b[1m \u001b[0m│\u001b[1m \u001b[0m\u001b[1m314,769 \u001b[0m\u001b[1;2m(1.3\u001b[0m\u001b[1m \u001b[0m│\n",
      "│\u001b[1m               \u001b[0m│\u001b[1m               \u001b[0m│\u001b[1m               \u001b[0m│\u001b[1m               \u001b[0m│\u001b[1m \u001b[0m\u001b[1;2mMB)\u001b[0m\u001b[1m         \u001b[0m\u001b[1m \u001b[0m│\n",
      "└───────────────┴───────────────┴───────────────┴───────────────┴──────────────┘\n",
      "\u001b[1m                                                                                \u001b[0m\n",
      "\u001b[1m                       Total Parameters: 314,769 \u001b[0m\u001b[1;2m(1.3 MB)\u001b[0m\u001b[1m                       \u001b[0m\n",
      "\n",
      "\n"
     ]
    }
   ],
   "source": [
    "print(generator.tabulate(jax.random.key(0), x = gen_x, train = False))"
   ]
  },
  {
   "cell_type": "code",
   "execution_count": 396,
   "id": "f08b11a8-8b47-4ca9-b398-dd828929715e",
   "metadata": {
    "scrolled": true
   },
   "outputs": [
    {
     "name": "stdout",
     "output_type": "stream",
     "text": [
      "\n",
      "\u001b[3m                             Discriminator Summary                              \u001b[0m\n",
      "┏━━━━━━━━━┳━━━━━━━━━━━━━━━┳━━━━━━━━━━━━━━━━━┳━━━━━━━━━━━━━━━━┳━━━━━━━━━━━━━━━━━┓\n",
      "┃\u001b[1m \u001b[0m\u001b[1mpath   \u001b[0m\u001b[1m \u001b[0m┃\u001b[1m \u001b[0m\u001b[1mmodule       \u001b[0m\u001b[1m \u001b[0m┃\u001b[1m \u001b[0m\u001b[1minputs         \u001b[0m\u001b[1m \u001b[0m┃\u001b[1m \u001b[0m\u001b[1moutputs       \u001b[0m\u001b[1m \u001b[0m┃\u001b[1m \u001b[0m\u001b[1mparams         \u001b[0m\u001b[1m \u001b[0m┃\n",
      "┡━━━━━━━━━╇━━━━━━━━━━━━━━━╇━━━━━━━━━━━━━━━━━╇━━━━━━━━━━━━━━━━╇━━━━━━━━━━━━━━━━━┩\n",
      "│         │ Discriminator │ train: False    │ \u001b[2mfloat32\u001b[0m[64,1]  │                 │\n",
      "│         │               │ x:              │                │                 │\n",
      "│         │               │ \u001b[2mfloat32\u001b[0m[64,28,… │                │                 │\n",
      "├─────────┼───────────────┼─────────────────┼────────────────┼─────────────────┤\n",
      "│ Conv_0  │ Conv          │ \u001b[2mfloat32\u001b[0m[64,28,… │ \u001b[2mfloat32\u001b[0m[64,14… │ bias:           │\n",
      "│         │               │                 │                │ \u001b[2mfloat32\u001b[0m[64]     │\n",
      "│         │               │                 │                │ kernel:         │\n",
      "│         │               │                 │                │ \u001b[2mfloat32\u001b[0m[3,3,1,… │\n",
      "│         │               │                 │                │                 │\n",
      "│         │               │                 │                │ \u001b[1m640 \u001b[0m\u001b[1;2m(2.6 KB)\u001b[0m    │\n",
      "├─────────┼───────────────┼─────────────────┼────────────────┼─────────────────┤\n",
      "│ Conv_1  │ Conv          │ \u001b[2mfloat32\u001b[0m[64,14,… │ \u001b[2mfloat32\u001b[0m[64,7,… │ bias:           │\n",
      "│         │               │                 │                │ \u001b[2mfloat32\u001b[0m[128]    │\n",
      "│         │               │                 │                │ kernel:         │\n",
      "│         │               │                 │                │ \u001b[2mfloat32\u001b[0m[3,3,64… │\n",
      "│         │               │                 │                │                 │\n",
      "│         │               │                 │                │ \u001b[1m73,856 \u001b[0m\u001b[1;2m(295.4 \u001b[0m  │\n",
      "│         │               │                 │                │ \u001b[1;2mKB)\u001b[0m             │\n",
      "├─────────┼───────────────┼─────────────────┼────────────────┼─────────────────┤\n",
      "│ Dense_0 │ Dense         │ \u001b[2mfloat32\u001b[0m[64,128] │ \u001b[2mfloat32\u001b[0m[64,1]  │ bias:           │\n",
      "│         │               │                 │                │ \u001b[2mfloat32\u001b[0m[1]      │\n",
      "│         │               │                 │                │ kernel:         │\n",
      "│         │               │                 │                │ \u001b[2mfloat32\u001b[0m[128,1]  │\n",
      "│         │               │                 │                │                 │\n",
      "│         │               │                 │                │ \u001b[1m129 \u001b[0m\u001b[1;2m(516 B)\u001b[0m     │\n",
      "├─────────┼───────────────┼─────────────────┼────────────────┼─────────────────┤\n",
      "│\u001b[1m \u001b[0m\u001b[1m       \u001b[0m\u001b[1m \u001b[0m│\u001b[1m \u001b[0m\u001b[1m             \u001b[0m\u001b[1m \u001b[0m│\u001b[1m \u001b[0m\u001b[1m               \u001b[0m\u001b[1m \u001b[0m│\u001b[1m \u001b[0m\u001b[1m         Total\u001b[0m\u001b[1m \u001b[0m│\u001b[1m \u001b[0m\u001b[1m74,625 \u001b[0m\u001b[1;2m(298.5 \u001b[0m\u001b[1m \u001b[0m\u001b[1m \u001b[0m│\n",
      "│\u001b[1m         \u001b[0m│\u001b[1m               \u001b[0m│\u001b[1m                 \u001b[0m│\u001b[1m                \u001b[0m│\u001b[1m \u001b[0m\u001b[1;2mKB)\u001b[0m\u001b[1m            \u001b[0m\u001b[1m \u001b[0m│\n",
      "└─────────┴───────────────┴─────────────────┴────────────────┴─────────────────┘\n",
      "\u001b[1m                                                                                \u001b[0m\n",
      "\u001b[1m                      Total Parameters: 74,625 \u001b[0m\u001b[1;2m(298.5 KB)\u001b[0m\u001b[1m                       \u001b[0m\n",
      "\n",
      "\n"
     ]
    }
   ],
   "source": [
    "print(discriminator.tabulate(jax.random.key(0), x = disc_x, train = False))"
   ]
  },
  {
   "cell_type": "code",
   "execution_count": null,
   "id": "59e586b1-a7e7-4100-9ef8-9b4c5f56dc42",
   "metadata": {},
   "outputs": [],
   "source": []
  },
  {
   "cell_type": "code",
   "execution_count": 397,
   "id": "bf136906-b68a-48b8-86ea-5a3a193210aa",
   "metadata": {},
   "outputs": [],
   "source": [
    "# Define the loss function\n",
    "\n",
    "def loss_function(logits, labels):\n",
    "    \n",
    "    \"\"\"\n",
    "    Arguments:\n",
    "        logits : unnormalized logits output from discriminator\n",
    "        labels : labels for the images\n",
    "    \"\"\"\n",
    "    loss = optax.losses.sigmoid_binary_cross_entropy(logits, labels)\n",
    "    return loss\n",
    "\n",
    "@jax.jit\n",
    "def train_step(batch, generator_state, discriminator_state, key):\n",
    "    \"\"\"\n",
    "    \"\"\"\n",
    "    key, key_generator = jax.random.split(key)\n",
    "    \n",
    "    # We need random noise of shape -> (BATCH_SIZE, LATENT_DIM)\n",
    "    noise = jax.random.normal(key = key, shape = (BATCH_SIZE, LATENT_DIM))\n",
    "    real_data = batch[\"image\"]\n",
    "    \n",
    "    # define loss function for generator model\n",
    "    def gen_loss_fn(params):\n",
    "        generated_data = generator_state.apply_fn(\n",
    "            params,\n",
    "            x = noise, train = True\n",
    "        )\n",
    "        logits = discriminator_state.apply_fn(\n",
    "            discriminator_state.params,\n",
    "            x = generated_data, train = True\n",
    "        )\n",
    "\n",
    "        loss = -jnp.mean(jnp.log(nn.sigmoid(logits)))\n",
    "        \n",
    "        return loss, logits\n",
    "\n",
    "    grads_gen_fn = jax.value_and_grad(fun = gen_loss_fn, has_aux = True)\n",
    "    (gen_loss, gen_logits), grads_gen = grads_gen_fn(generator_state.params)\n",
    "\n",
    "    new_generator_state = generator_state.apply_gradients(\n",
    "        grads=grads_gen\n",
    "    )\n",
    "\n",
    "    noise = jax.random.normal(key, shape = (BATCH_SIZE, LATENT_DIM))\n",
    "    generated_data = generator_state.apply_fn(\n",
    "            generator_state.params,\n",
    "            x = noise, train = True\n",
    "        )\n",
    "    \n",
    "    def disc_loss_fn(params):\n",
    "        \n",
    "\n",
    "        all_data = jnp.concatenate([real_data, generated_data], axis = 0)\n",
    "        all_labels = jnp.concatenate([\n",
    "            jnp.ones(shape = (BATCH_SIZE, 1)),\n",
    "            jnp.zeros(shape = (BATCH_SIZE, 1))\n",
    "        ], axis = 0)\n",
    "        \n",
    "        logits = discriminator_state.apply_fn(\n",
    "            params,\n",
    "            x = all_data, train = True\n",
    "        )\n",
    "\n",
    "        loss = jnp.mean(loss_function(logits, all_labels))\n",
    "\n",
    "        return loss, logits\n",
    "\n",
    "    # This two line will calculate the loss value for given generated data\n",
    "    grads_disc_fn = jax.value_and_grad(fun = disc_loss_fn, has_aux = True)\n",
    "    (disc_loss, disc_logits), grads_disc = grads_disc_fn(discriminator_state.params)\n",
    "\n",
    "    new_discriminator_state = discriminator_state.apply_gradients(\n",
    "        grads = grads_disc\n",
    "    )\n",
    "    \n",
    "    return new_generator_state, new_discriminator_state, gen_loss, disc_loss\n",
    "    "
   ]
  },
  {
   "cell_type": "code",
   "execution_count": 407,
   "id": "2055aade-6211-4aa8-8a7b-273977c96a83",
   "metadata": {},
   "outputs": [],
   "source": [
    "\n",
    "\n",
    "def create_train_state(model, parameters, tx):\n",
    "    state = train_state.TrainState.create(\n",
    "        apply_fn = model.apply,\n",
    "        params = parameters,\n",
    "        tx = tx,\n",
    "    )\n",
    "\n",
    "    return state\n",
    "\n",
    "# Generator\n",
    "generator = Generator(in_channels = 16)\n",
    "generator_parameters = generator.init(jax.random.key(0),\n",
    "                                      x = jnp.ones(shape = (BATCH_SIZE, LATENT_DIM)),\n",
    "                                     train = True)\n",
    "gen_tx = optax.adam(learning_rate = GEN_LEARNING_RATE)\n",
    "generator_state = create_train_state(model=generator, parameters=generator_parameters, tx=gen_tx)\n",
    "\n",
    "# Discriminator\n",
    "discriminator = Discriminator(name = \"Discriminator\")\n",
    "discriminator_parameters = discriminator.init(jax.random.key(0),\n",
    "                                             x = jnp.ones(shape = (BATCH_SIZE, 28, 28, 1)),\n",
    "                                             train = True)\n",
    "disc_tx = optax.adam(learning_rate = DISC_LEARNING_RATE)\n",
    "discriminator_state = create_train_state(model=discriminator, parameters=discriminator_parameters, tx=disc_tx)"
   ]
  },
  {
   "cell_type": "code",
   "execution_count": 408,
   "id": "8a3a5818-77e0-4c4a-b845-721092d3e44c",
   "metadata": {},
   "outputs": [],
   "source": [
    "import time\n",
    "\n",
    "\n",
    "def train_model(generator_state,\n",
    "                discriminator_state,\n",
    "                train_dataloader,\n",
    "                test_dataloader,\n",
    "                epochs,\n",
    "                key):\n",
    "\n",
    "    for epoch in tqdm(range(epochs)):\n",
    "        train_loss = 0\n",
    "        for i,batch in enumerate(train_dataloader):\n",
    "            key, key_generator = jax.random.split(key, 2)\n",
    "            generator_state, discriminator_state, gen_loss, disc_loss = train_step(\n",
    "                batch = batch,\n",
    "                generator_state = generator_state,\n",
    "                discriminator_state = discriminator_state,\n",
    "                key = key_generator\n",
    "            )\n",
    "            train_loss += (gen_loss + disc_loss) / 2\n",
    "            if i % 100 == 0:\n",
    "                print(f\"Epoch: {epoch} | Batch : {i} | Generator Loss: {gen_loss:.04f} | Discriminator Loss: {disc_loss:.04f}\")\n",
    "        print(f\"Epoch : {epoch} | Total Trainig Loss : {train_loss / len(train_dataloader)}\")\n",
    "\n",
    "    return generator_state, discriminator_state"
   ]
  },
  {
   "cell_type": "code",
   "execution_count": 409,
   "id": "00a9dd4a-1fc4-42db-9c8c-738aa0c1b223",
   "metadata": {},
   "outputs": [
    {
     "data": {
      "application/vnd.jupyter.widget-view+json": {
       "model_id": "9612e14504844df28d963941e126436f",
       "version_major": 2,
       "version_minor": 0
      },
      "text/plain": [
       "  0%|          | 0/50 [00:00<?, ?it/s]"
      ]
     },
     "metadata": {},
     "output_type": "display_data"
    },
    {
     "name": "stdout",
     "output_type": "stream",
     "text": [
      "Epoch: 0 | Batch : 0 | Generator Loss: 0.6533 | Discriminator Loss: 0.5938\n",
      "Epoch: 0 | Batch : 100 | Generator Loss: 1.3398 | Discriminator Loss: 0.1831\n",
      "Epoch: 0 | Batch : 200 | Generator Loss: 3.2310 | Discriminator Loss: 0.0480\n",
      "Epoch: 0 | Batch : 300 | Generator Loss: 0.5694 | Discriminator Loss: 0.4780\n",
      "Epoch: 0 | Batch : 400 | Generator Loss: 0.7766 | Discriminator Loss: 0.3852\n",
      "Epoch: 0 | Batch : 500 | Generator Loss: 0.9910 | Discriminator Loss: 0.4208\n",
      "Epoch: 0 | Batch : 600 | Generator Loss: 1.0434 | Discriminator Loss: 0.4262\n",
      "Epoch: 0 | Batch : 700 | Generator Loss: 1.2343 | Discriminator Loss: 0.4143\n",
      "Epoch: 0 | Batch : 800 | Generator Loss: 1.2009 | Discriminator Loss: 0.4355\n",
      "Epoch: 0 | Batch : 900 | Generator Loss: 1.1609 | Discriminator Loss: 0.4467\n",
      "Epoch : 0 | Total Trainig Loss : 0.7544053196907043\n",
      "Epoch: 1 | Batch : 0 | Generator Loss: 1.3158 | Discriminator Loss: 0.3516\n",
      "Epoch: 1 | Batch : 100 | Generator Loss: 1.3964 | Discriminator Loss: 0.3409\n",
      "Epoch: 1 | Batch : 200 | Generator Loss: 1.3466 | Discriminator Loss: 0.3429\n",
      "Epoch: 1 | Batch : 300 | Generator Loss: 3.1380 | Discriminator Loss: 0.0564\n",
      "Epoch: 1 | Batch : 400 | Generator Loss: 4.1070 | Discriminator Loss: 0.0133\n",
      "Epoch: 1 | Batch : 500 | Generator Loss: 4.5863 | Discriminator Loss: 0.0090\n",
      "Epoch: 1 | Batch : 600 | Generator Loss: 4.8028 | Discriminator Loss: 0.0102\n",
      "Epoch: 1 | Batch : 700 | Generator Loss: 1.9703 | Discriminator Loss: 0.3525\n",
      "Epoch: 1 | Batch : 800 | Generator Loss: 1.3616 | Discriminator Loss: 0.4309\n",
      "Epoch: 1 | Batch : 900 | Generator Loss: 1.4456 | Discriminator Loss: 0.3839\n",
      "Epoch : 1 | Total Trainig Loss : 1.4076474905014038\n",
      "Epoch: 2 | Batch : 0 | Generator Loss: 1.4488 | Discriminator Loss: 0.3525\n",
      "Epoch: 2 | Batch : 100 | Generator Loss: 1.1738 | Discriminator Loss: 0.4248\n",
      "Epoch: 2 | Batch : 200 | Generator Loss: 1.1844 | Discriminator Loss: 0.4500\n",
      "Epoch: 2 | Batch : 300 | Generator Loss: 1.0859 | Discriminator Loss: 0.5978\n",
      "Epoch: 2 | Batch : 400 | Generator Loss: 0.9678 | Discriminator Loss: 0.5099\n",
      "Epoch: 2 | Batch : 500 | Generator Loss: 0.9976 | Discriminator Loss: 0.5108\n",
      "Epoch: 2 | Batch : 600 | Generator Loss: 1.0846 | Discriminator Loss: 0.5101\n",
      "Epoch: 2 | Batch : 700 | Generator Loss: 1.3276 | Discriminator Loss: 0.3826\n",
      "Epoch: 2 | Batch : 800 | Generator Loss: 1.1427 | Discriminator Loss: 0.4243\n",
      "Epoch: 2 | Batch : 900 | Generator Loss: 0.9801 | Discriminator Loss: 0.5468\n",
      "Epoch : 2 | Total Trainig Loss : 0.8216564059257507\n",
      "Epoch: 3 | Batch : 0 | Generator Loss: 1.0760 | Discriminator Loss: 0.4420\n",
      "Epoch: 3 | Batch : 100 | Generator Loss: 1.1300 | Discriminator Loss: 0.4191\n",
      "Epoch: 3 | Batch : 200 | Generator Loss: 1.0820 | Discriminator Loss: 0.5452\n",
      "Epoch: 3 | Batch : 300 | Generator Loss: 1.1333 | Discriminator Loss: 0.4682\n",
      "Epoch: 3 | Batch : 400 | Generator Loss: 1.1065 | Discriminator Loss: 0.4992\n",
      "Epoch: 3 | Batch : 500 | Generator Loss: 1.3050 | Discriminator Loss: 0.4107\n",
      "Epoch: 3 | Batch : 600 | Generator Loss: 1.1010 | Discriminator Loss: 0.5591\n",
      "Epoch: 3 | Batch : 700 | Generator Loss: 1.1097 | Discriminator Loss: 0.4280\n",
      "Epoch: 3 | Batch : 800 | Generator Loss: 1.1200 | Discriminator Loss: 0.4121\n",
      "Epoch: 3 | Batch : 900 | Generator Loss: 1.0326 | Discriminator Loss: 0.5710\n",
      "Epoch : 3 | Total Trainig Loss : 0.8300143480300903\n",
      "Epoch: 4 | Batch : 0 | Generator Loss: 1.1560 | Discriminator Loss: 0.4801\n",
      "Epoch: 4 | Batch : 100 | Generator Loss: 1.2670 | Discriminator Loss: 0.4497\n",
      "Epoch: 4 | Batch : 200 | Generator Loss: 1.0173 | Discriminator Loss: 0.5954\n",
      "Epoch: 4 | Batch : 300 | Generator Loss: 1.2957 | Discriminator Loss: 0.4181\n",
      "Epoch: 4 | Batch : 400 | Generator Loss: 1.0463 | Discriminator Loss: 0.5377\n",
      "Epoch: 4 | Batch : 500 | Generator Loss: 1.5863 | Discriminator Loss: 0.2959\n",
      "Epoch: 4 | Batch : 600 | Generator Loss: 1.1849 | Discriminator Loss: 0.5260\n",
      "Epoch: 4 | Batch : 700 | Generator Loss: 1.0841 | Discriminator Loss: 0.5123\n",
      "Epoch: 4 | Batch : 800 | Generator Loss: 1.4294 | Discriminator Loss: 0.4264\n",
      "Epoch: 4 | Batch : 900 | Generator Loss: 0.9444 | Discriminator Loss: 0.5410\n",
      "Epoch : 4 | Total Trainig Loss : 0.8214937448501587\n",
      "Epoch: 5 | Batch : 0 | Generator Loss: 1.0628 | Discriminator Loss: 0.4988\n",
      "Epoch: 5 | Batch : 100 | Generator Loss: 1.1626 | Discriminator Loss: 0.4640\n",
      "Epoch: 5 | Batch : 200 | Generator Loss: 1.0823 | Discriminator Loss: 0.5041\n",
      "Epoch: 5 | Batch : 300 | Generator Loss: 0.9917 | Discriminator Loss: 0.5251\n",
      "Epoch: 5 | Batch : 400 | Generator Loss: 1.3145 | Discriminator Loss: 0.3599\n",
      "Epoch: 5 | Batch : 500 | Generator Loss: 1.2067 | Discriminator Loss: 0.3963\n",
      "Epoch: 5 | Batch : 600 | Generator Loss: 1.1453 | Discriminator Loss: 0.5590\n",
      "Epoch: 5 | Batch : 700 | Generator Loss: 1.4425 | Discriminator Loss: 0.3310\n",
      "Epoch: 5 | Batch : 800 | Generator Loss: 1.2197 | Discriminator Loss: 0.4441\n",
      "Epoch: 5 | Batch : 900 | Generator Loss: 1.1476 | Discriminator Loss: 0.4782\n",
      "Epoch : 5 | Total Trainig Loss : 0.8314064741134644\n",
      "Epoch: 6 | Batch : 0 | Generator Loss: 1.2661 | Discriminator Loss: 0.4746\n",
      "Epoch: 6 | Batch : 100 | Generator Loss: 1.2308 | Discriminator Loss: 0.5010\n",
      "Epoch: 6 | Batch : 200 | Generator Loss: 1.1404 | Discriminator Loss: 0.4977\n",
      "Epoch: 6 | Batch : 300 | Generator Loss: 0.9645 | Discriminator Loss: 0.5663\n",
      "Epoch: 6 | Batch : 400 | Generator Loss: 1.1895 | Discriminator Loss: 0.5204\n",
      "Epoch: 6 | Batch : 500 | Generator Loss: 1.5537 | Discriminator Loss: 0.2772\n",
      "Epoch: 6 | Batch : 600 | Generator Loss: 1.1807 | Discriminator Loss: 0.4836\n",
      "Epoch: 6 | Batch : 700 | Generator Loss: 1.0956 | Discriminator Loss: 0.4953\n"
     ]
    },
    {
     "ename": "KeyboardInterrupt",
     "evalue": "",
     "output_type": "error",
     "traceback": [
      "\u001b[0;31m---------------------------------------------------------------------------\u001b[0m",
      "\u001b[0;31mKeyboardInterrupt\u001b[0m                         Traceback (most recent call last)",
      "Cell \u001b[0;32mIn[409], line 1\u001b[0m\n\u001b[0;32m----> 1\u001b[0m generator_state, discriminator_parameters \u001b[38;5;241m=\u001b[39m train_model(generator_state, discriminator_state, train_data, test_data, \u001b[38;5;241m50\u001b[39m, key)\n",
      "Cell \u001b[0;32mIn[408], line 21\u001b[0m, in \u001b[0;36mtrain_model\u001b[0;34m(generator_state, discriminator_state, train_dataloader, test_dataloader, epochs, key)\u001b[0m\n\u001b[1;32m     14\u001b[0m key, key_generator \u001b[38;5;241m=\u001b[39m jax\u001b[38;5;241m.\u001b[39mrandom\u001b[38;5;241m.\u001b[39msplit(key, \u001b[38;5;241m2\u001b[39m)\n\u001b[1;32m     15\u001b[0m generator_state, discriminator_state, gen_loss, disc_loss \u001b[38;5;241m=\u001b[39m train_step(\n\u001b[1;32m     16\u001b[0m     batch \u001b[38;5;241m=\u001b[39m batch,\n\u001b[1;32m     17\u001b[0m     generator_state \u001b[38;5;241m=\u001b[39m generator_state,\n\u001b[1;32m     18\u001b[0m     discriminator_state \u001b[38;5;241m=\u001b[39m discriminator_state,\n\u001b[1;32m     19\u001b[0m     key \u001b[38;5;241m=\u001b[39m key_generator\n\u001b[1;32m     20\u001b[0m )\n\u001b[0;32m---> 21\u001b[0m train_loss \u001b[38;5;241m+\u001b[39m\u001b[38;5;241m=\u001b[39m (gen_loss \u001b[38;5;241m+\u001b[39m disc_loss) \u001b[38;5;241m/\u001b[39m \u001b[38;5;241m2\u001b[39m\n\u001b[1;32m     22\u001b[0m \u001b[38;5;28;01mif\u001b[39;00m i \u001b[38;5;241m%\u001b[39m \u001b[38;5;241m100\u001b[39m \u001b[38;5;241m==\u001b[39m \u001b[38;5;241m0\u001b[39m:\n\u001b[1;32m     23\u001b[0m     \u001b[38;5;28mprint\u001b[39m(\u001b[38;5;124mf\u001b[39m\u001b[38;5;124m\"\u001b[39m\u001b[38;5;124mEpoch: \u001b[39m\u001b[38;5;132;01m{\u001b[39;00mepoch\u001b[38;5;132;01m}\u001b[39;00m\u001b[38;5;124m | Batch : \u001b[39m\u001b[38;5;132;01m{\u001b[39;00mi\u001b[38;5;132;01m}\u001b[39;00m\u001b[38;5;124m | Generator Loss: \u001b[39m\u001b[38;5;132;01m{\u001b[39;00mgen_loss\u001b[38;5;132;01m:\u001b[39;00m\u001b[38;5;124m.04f\u001b[39m\u001b[38;5;132;01m}\u001b[39;00m\u001b[38;5;124m | Discriminator Loss: \u001b[39m\u001b[38;5;132;01m{\u001b[39;00mdisc_loss\u001b[38;5;132;01m:\u001b[39;00m\u001b[38;5;124m.04f\u001b[39m\u001b[38;5;132;01m}\u001b[39;00m\u001b[38;5;124m\"\u001b[39m)\n",
      "File \u001b[0;32m~/anaconda3/lib/python3.11/site-packages/jax/_src/numpy/array_methods.py:265\u001b[0m, in \u001b[0;36m_defer_to_unrecognized_arg.<locals>.deferring_binary_op\u001b[0;34m(self, other)\u001b[0m\n\u001b[1;32m    263\u001b[0m args \u001b[38;5;241m=\u001b[39m (other, \u001b[38;5;28mself\u001b[39m) \u001b[38;5;28;01mif\u001b[39;00m swap \u001b[38;5;28;01melse\u001b[39;00m (\u001b[38;5;28mself\u001b[39m, other)\n\u001b[1;32m    264\u001b[0m \u001b[38;5;28;01mif\u001b[39;00m \u001b[38;5;28misinstance\u001b[39m(other, _accepted_binop_types):\n\u001b[0;32m--> 265\u001b[0m   \u001b[38;5;28;01mreturn\u001b[39;00m binary_op(\u001b[38;5;241m*\u001b[39margs)\n\u001b[1;32m    266\u001b[0m \u001b[38;5;66;03m# Note: don't use isinstance here, because we don't want to raise for\u001b[39;00m\n\u001b[1;32m    267\u001b[0m \u001b[38;5;66;03m# subclasses, e.g. NamedTuple objects that may override operators.\u001b[39;00m\n\u001b[1;32m    268\u001b[0m \u001b[38;5;28;01mif\u001b[39;00m \u001b[38;5;28mtype\u001b[39m(other) \u001b[38;5;129;01min\u001b[39;00m _rejected_binop_types:\n",
      "\u001b[0;31mKeyboardInterrupt\u001b[0m: "
     ]
    }
   ],
   "source": [
    "generator_state, discriminator_parameters = train_model(generator_state, discriminator_state, train_data, test_data, 50, key)"
   ]
  },
  {
   "cell_type": "code",
   "execution_count": 401,
   "id": "001ffc9b-e03b-48d9-8536-b52225a53544",
   "metadata": {},
   "outputs": [],
   "source": [
    "noise = jax.random.normal(jax.random.key(0), shape = (BATCH_SIZE, LATENT_DIM))"
   ]
  },
  {
   "cell_type": "code",
   "execution_count": 402,
   "id": "e5be76ea-7d52-4e57-aad4-8db28f037a50",
   "metadata": {},
   "outputs": [],
   "source": [
    "out = generator.apply(generator_parameters, x = noise, train=False)"
   ]
  },
  {
   "cell_type": "code",
   "execution_count": 404,
   "id": "9c5c8e88-e595-434a-9545-9d4964a30d50",
   "metadata": {
    "scrolled": true
   },
   "outputs": [
    {
     "data": {
      "text/plain": [
       "<matplotlib.image.AxesImage at 0x7fc49ca33150>"
      ]
     },
     "execution_count": 404,
     "metadata": {},
     "output_type": "execute_result"
    },
    {
     "data": {
      "image/png": "[encoded data removed]",
      "text/plain": [
       "<Figure size 640x480 with 1 Axes>"
      ]
     },
     "metadata": {},
     "output_type": "display_data"
    }
   ],
   "source": [
    "plt.imshow(jnp.clip((out[0] * 127.5) + 127.5, min = 0, max = 255))"
   ]
  },
  {
   "cell_type": "code",
   "execution_count": null,
   "id": "680f924e-73b7-4dbd-8f9d-a9a5cd039857",
   "metadata": {},
   "outputs": [],
   "source": [
    "gen_tx.update()"
   ]
  }
 ],
 "metadata": {
  "kernelspec": {
   "display_name": "Python 3 (ipykernel)",
   "language": "python",
   "name": "python3"
  },
  "language_info": {
   "codemirror_mode": {
    "name": "ipython",
    "version": 3
   },
   "file_extension": ".py",
   "mimetype": "text/x-python",
   "name": "python",
   "nbconvert_exporter": "python",
   "pygments_lexer": "ipython3",
   "version": "3.11.7"
  }
 },
 "nbformat": 4,
 "nbformat_minor": 5
}
